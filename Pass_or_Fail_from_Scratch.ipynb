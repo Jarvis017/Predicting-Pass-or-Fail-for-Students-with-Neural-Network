{
  "nbformat": 4,
  "nbformat_minor": 0,
  "metadata": {
    "colab": {
      "provenance": [],
      "include_colab_link": true
    },
    "kernelspec": {
      "name": "python3",
      "display_name": "Python 3"
    },
    "language_info": {
      "name": "python"
    },
    "accelerator": "GPU"
  },
  "cells": [
    {
      "cell_type": "markdown",
      "metadata": {
        "id": "view-in-github",
        "colab_type": "text"
      },
      "source": [
        "<a href=\"https://colab.research.google.com/github/Jarvis017/Predicting-pass-or-fail-for-students-with-Neural-Network/blob/main/Pass_or_Fail_from_Scratch.ipynb\" target=\"_parent\"><img src=\"https://colab.research.google.com/assets/colab-badge.svg\" alt=\"Open In Colab\"/></a>"
      ]
    },
    {
      "cell_type": "markdown",
      "source": [
        "# ***Libraries & Constants***"
      ],
      "metadata": {
        "id": "TopdEIaCyasv"
      }
    },
    {
      "cell_type": "code",
      "execution_count": null,
      "metadata": {
        "id": "8wXLgz_EYiFr"
      },
      "outputs": [],
      "source": [
        "import os\n",
        "import pandas as pd\n",
        "import seaborn as sns\n",
        "import numpy as np\n",
        "from sklearn.preprocessing import LabelEncoder\n",
        "from sklearn.model_selection import train_test_split\n",
        "from sklearn.preprocessing import StandardScaler\n",
        "import matplotlib.pyplot as plt\n",
        "import copy"
      ]
    },
    {
      "cell_type": "code",
      "source": [
        "!gdown --id 1-Zyp-JP3f9QhPKaErBkPPFNKaPS1v74u"
      ],
      "metadata": {
        "colab": {
          "base_uri": "https://localhost:8080/"
        },
        "id": "lirSlJSTYqd6",
        "outputId": "3fa21e06-db9d-4b6a-9940-dca6d0958c00"
      },
      "execution_count": null,
      "outputs": [
        {
          "output_type": "stream",
          "name": "stdout",
          "text": [
            "Downloading...\n",
            "From: https://drive.google.com/uc?id=1-Zyp-JP3f9QhPKaErBkPPFNKaPS1v74u\n",
            "To: /content/Dataset.csv\n",
            "\r  0% 0.00/38.0k [00:00<?, ?B/s]\r100% 38.0k/38.0k [00:00<00:00, 51.8MB/s]\n"
          ]
        }
      ]
    },
    {
      "cell_type": "code",
      "source": [
        "categorical_attr = ['gender', 'NationalITy', 'PlaceofBirth', 'StageID', 'GradeID', 'SectionID', 'Topic', 'Semester', 'Relation', 'ParentAnsweringSurvey', 'ParentschoolSatisfaction', 'StudentAbsenceDays', 'Class']"
      ],
      "metadata": {
        "id": "WrvvhoNxYtkt"
      },
      "execution_count": null,
      "outputs": []
    },
    {
      "cell_type": "markdown",
      "source": [
        "# ***Preprocessing***\n",
        "\n",
        "Reading & displaying data:"
      ],
      "metadata": {
        "id": "iZ0yQWRPY2vx"
      }
    },
    {
      "cell_type": "code",
      "source": [
        "df = pd.read_csv('/content/Dataset.csv')\n",
        "df.head()"
      ],
      "metadata": {
        "colab": {
          "base_uri": "https://localhost:8080/",
          "height": 270
        },
        "id": "BVPm_CFfYxjw",
        "outputId": "3d9c0f26-f476-45e4-f6b9-65406f8a5561"
      },
      "execution_count": null,
      "outputs": [
        {
          "output_type": "execute_result",
          "data": {
            "text/plain": [
              "  gender NationalITy PlaceofBirth     StageID GradeID SectionID Topic  \\\n",
              "0      M          KW       KuwaIT  lowerlevel    G-04         A    IT   \n",
              "1      M          KW       KuwaIT  lowerlevel    G-04         A    IT   \n",
              "2      M          KW       KuwaIT  lowerlevel    G-04         A    IT   \n",
              "3      M          KW       KuwaIT  lowerlevel    G-04         A    IT   \n",
              "4      M          KW       KuwaIT  lowerlevel    G-04         A    IT   \n",
              "\n",
              "  Semester Relation  raisedhands  VisITedResources  AnnouncementsView  \\\n",
              "0        F   Father           15                16                  2   \n",
              "1        F   Father           20                20                  3   \n",
              "2        F   Father           10                 7                  0   \n",
              "3        F   Father           30                25                  5   \n",
              "4        F   Father           40                50                 12   \n",
              "\n",
              "   Discussion ParentAnsweringSurvey ParentschoolSatisfaction  \\\n",
              "0          20                   Yes                     Good   \n",
              "1          25                   Yes                     Good   \n",
              "2          30                    No                      Bad   \n",
              "3          35                    No                      Bad   \n",
              "4          50                    No                      Bad   \n",
              "\n",
              "  StudentAbsenceDays Class  \n",
              "0            Under-7     M  \n",
              "1            Under-7     M  \n",
              "2            Above-7     L  \n",
              "3            Above-7     L  \n",
              "4            Above-7     M  "
            ],
            "text/html": [
              "\n",
              "  <div id=\"df-3844c5ff-021d-4d89-bc1a-71ea98869a5f\">\n",
              "    <div class=\"colab-df-container\">\n",
              "      <div>\n",
              "<style scoped>\n",
              "    .dataframe tbody tr th:only-of-type {\n",
              "        vertical-align: middle;\n",
              "    }\n",
              "\n",
              "    .dataframe tbody tr th {\n",
              "        vertical-align: top;\n",
              "    }\n",
              "\n",
              "    .dataframe thead th {\n",
              "        text-align: right;\n",
              "    }\n",
              "</style>\n",
              "<table border=\"1\" class=\"dataframe\">\n",
              "  <thead>\n",
              "    <tr style=\"text-align: right;\">\n",
              "      <th></th>\n",
              "      <th>gender</th>\n",
              "      <th>NationalITy</th>\n",
              "      <th>PlaceofBirth</th>\n",
              "      <th>StageID</th>\n",
              "      <th>GradeID</th>\n",
              "      <th>SectionID</th>\n",
              "      <th>Topic</th>\n",
              "      <th>Semester</th>\n",
              "      <th>Relation</th>\n",
              "      <th>raisedhands</th>\n",
              "      <th>VisITedResources</th>\n",
              "      <th>AnnouncementsView</th>\n",
              "      <th>Discussion</th>\n",
              "      <th>ParentAnsweringSurvey</th>\n",
              "      <th>ParentschoolSatisfaction</th>\n",
              "      <th>StudentAbsenceDays</th>\n",
              "      <th>Class</th>\n",
              "    </tr>\n",
              "  </thead>\n",
              "  <tbody>\n",
              "    <tr>\n",
              "      <th>0</th>\n",
              "      <td>M</td>\n",
              "      <td>KW</td>\n",
              "      <td>KuwaIT</td>\n",
              "      <td>lowerlevel</td>\n",
              "      <td>G-04</td>\n",
              "      <td>A</td>\n",
              "      <td>IT</td>\n",
              "      <td>F</td>\n",
              "      <td>Father</td>\n",
              "      <td>15</td>\n",
              "      <td>16</td>\n",
              "      <td>2</td>\n",
              "      <td>20</td>\n",
              "      <td>Yes</td>\n",
              "      <td>Good</td>\n",
              "      <td>Under-7</td>\n",
              "      <td>M</td>\n",
              "    </tr>\n",
              "    <tr>\n",
              "      <th>1</th>\n",
              "      <td>M</td>\n",
              "      <td>KW</td>\n",
              "      <td>KuwaIT</td>\n",
              "      <td>lowerlevel</td>\n",
              "      <td>G-04</td>\n",
              "      <td>A</td>\n",
              "      <td>IT</td>\n",
              "      <td>F</td>\n",
              "      <td>Father</td>\n",
              "      <td>20</td>\n",
              "      <td>20</td>\n",
              "      <td>3</td>\n",
              "      <td>25</td>\n",
              "      <td>Yes</td>\n",
              "      <td>Good</td>\n",
              "      <td>Under-7</td>\n",
              "      <td>M</td>\n",
              "    </tr>\n",
              "    <tr>\n",
              "      <th>2</th>\n",
              "      <td>M</td>\n",
              "      <td>KW</td>\n",
              "      <td>KuwaIT</td>\n",
              "      <td>lowerlevel</td>\n",
              "      <td>G-04</td>\n",
              "      <td>A</td>\n",
              "      <td>IT</td>\n",
              "      <td>F</td>\n",
              "      <td>Father</td>\n",
              "      <td>10</td>\n",
              "      <td>7</td>\n",
              "      <td>0</td>\n",
              "      <td>30</td>\n",
              "      <td>No</td>\n",
              "      <td>Bad</td>\n",
              "      <td>Above-7</td>\n",
              "      <td>L</td>\n",
              "    </tr>\n",
              "    <tr>\n",
              "      <th>3</th>\n",
              "      <td>M</td>\n",
              "      <td>KW</td>\n",
              "      <td>KuwaIT</td>\n",
              "      <td>lowerlevel</td>\n",
              "      <td>G-04</td>\n",
              "      <td>A</td>\n",
              "      <td>IT</td>\n",
              "      <td>F</td>\n",
              "      <td>Father</td>\n",
              "      <td>30</td>\n",
              "      <td>25</td>\n",
              "      <td>5</td>\n",
              "      <td>35</td>\n",
              "      <td>No</td>\n",
              "      <td>Bad</td>\n",
              "      <td>Above-7</td>\n",
              "      <td>L</td>\n",
              "    </tr>\n",
              "    <tr>\n",
              "      <th>4</th>\n",
              "      <td>M</td>\n",
              "      <td>KW</td>\n",
              "      <td>KuwaIT</td>\n",
              "      <td>lowerlevel</td>\n",
              "      <td>G-04</td>\n",
              "      <td>A</td>\n",
              "      <td>IT</td>\n",
              "      <td>F</td>\n",
              "      <td>Father</td>\n",
              "      <td>40</td>\n",
              "      <td>50</td>\n",
              "      <td>12</td>\n",
              "      <td>50</td>\n",
              "      <td>No</td>\n",
              "      <td>Bad</td>\n",
              "      <td>Above-7</td>\n",
              "      <td>M</td>\n",
              "    </tr>\n",
              "  </tbody>\n",
              "</table>\n",
              "</div>\n",
              "      <button class=\"colab-df-convert\" onclick=\"convertToInteractive('df-3844c5ff-021d-4d89-bc1a-71ea98869a5f')\"\n",
              "              title=\"Convert this dataframe to an interactive table.\"\n",
              "              style=\"display:none;\">\n",
              "        \n",
              "  <svg xmlns=\"http://www.w3.org/2000/svg\" height=\"24px\"viewBox=\"0 0 24 24\"\n",
              "       width=\"24px\">\n",
              "    <path d=\"M0 0h24v24H0V0z\" fill=\"none\"/>\n",
              "    <path d=\"M18.56 5.44l.94 2.06.94-2.06 2.06-.94-2.06-.94-.94-2.06-.94 2.06-2.06.94zm-11 1L8.5 8.5l.94-2.06 2.06-.94-2.06-.94L8.5 2.5l-.94 2.06-2.06.94zm10 10l.94 2.06.94-2.06 2.06-.94-2.06-.94-.94-2.06-.94 2.06-2.06.94z\"/><path d=\"M17.41 7.96l-1.37-1.37c-.4-.4-.92-.59-1.43-.59-.52 0-1.04.2-1.43.59L10.3 9.45l-7.72 7.72c-.78.78-.78 2.05 0 2.83L4 21.41c.39.39.9.59 1.41.59.51 0 1.02-.2 1.41-.59l7.78-7.78 2.81-2.81c.8-.78.8-2.07 0-2.86zM5.41 20L4 18.59l7.72-7.72 1.47 1.35L5.41 20z\"/>\n",
              "  </svg>\n",
              "      </button>\n",
              "      \n",
              "  <style>\n",
              "    .colab-df-container {\n",
              "      display:flex;\n",
              "      flex-wrap:wrap;\n",
              "      gap: 12px;\n",
              "    }\n",
              "\n",
              "    .colab-df-convert {\n",
              "      background-color: #E8F0FE;\n",
              "      border: none;\n",
              "      border-radius: 50%;\n",
              "      cursor: pointer;\n",
              "      display: none;\n",
              "      fill: #1967D2;\n",
              "      height: 32px;\n",
              "      padding: 0 0 0 0;\n",
              "      width: 32px;\n",
              "    }\n",
              "\n",
              "    .colab-df-convert:hover {\n",
              "      background-color: #E2EBFA;\n",
              "      box-shadow: 0px 1px 2px rgba(60, 64, 67, 0.3), 0px 1px 3px 1px rgba(60, 64, 67, 0.15);\n",
              "      fill: #174EA6;\n",
              "    }\n",
              "\n",
              "    [theme=dark] .colab-df-convert {\n",
              "      background-color: #3B4455;\n",
              "      fill: #D2E3FC;\n",
              "    }\n",
              "\n",
              "    [theme=dark] .colab-df-convert:hover {\n",
              "      background-color: #434B5C;\n",
              "      box-shadow: 0px 1px 3px 1px rgba(0, 0, 0, 0.15);\n",
              "      filter: drop-shadow(0px 1px 2px rgba(0, 0, 0, 0.3));\n",
              "      fill: #FFFFFF;\n",
              "    }\n",
              "  </style>\n",
              "\n",
              "      <script>\n",
              "        const buttonEl =\n",
              "          document.querySelector('#df-3844c5ff-021d-4d89-bc1a-71ea98869a5f button.colab-df-convert');\n",
              "        buttonEl.style.display =\n",
              "          google.colab.kernel.accessAllowed ? 'block' : 'none';\n",
              "\n",
              "        async function convertToInteractive(key) {\n",
              "          const element = document.querySelector('#df-3844c5ff-021d-4d89-bc1a-71ea98869a5f');\n",
              "          const dataTable =\n",
              "            await google.colab.kernel.invokeFunction('convertToInteractive',\n",
              "                                                     [key], {});\n",
              "          if (!dataTable) return;\n",
              "\n",
              "          const docLinkHtml = 'Like what you see? Visit the ' +\n",
              "            '<a target=\"_blank\" href=https://colab.research.google.com/notebooks/data_table.ipynb>data table notebook</a>'\n",
              "            + ' to learn more about interactive tables.';\n",
              "          element.innerHTML = '';\n",
              "          dataTable['output_type'] = 'display_data';\n",
              "          await google.colab.output.renderOutput(dataTable, element);\n",
              "          const docLink = document.createElement('div');\n",
              "          docLink.innerHTML = docLinkHtml;\n",
              "          element.appendChild(docLink);\n",
              "        }\n",
              "      </script>\n",
              "    </div>\n",
              "  </div>\n",
              "  "
            ]
          },
          "metadata": {},
          "execution_count": 44
        }
      ]
    },
    {
      "cell_type": "code",
      "source": [
        "print(df.shape)"
      ],
      "metadata": {
        "colab": {
          "base_uri": "https://localhost:8080/"
        },
        "id": "oDkmtX73p6S1",
        "outputId": "221e785a-90ea-4d17-ea57-96a7910738ab"
      },
      "execution_count": null,
      "outputs": [
        {
          "output_type": "stream",
          "name": "stdout",
          "text": [
            "(480, 17)\n"
          ]
        }
      ]
    },
    {
      "cell_type": "code",
      "source": [
        "df['Class'] = df['Class'].replace('H','M')\n",
        "# Converting Categorical values to scaler values\n",
        "le = LabelEncoder()\n",
        "df[categorical_attr] = df[categorical_attr].apply(le.fit_transform, axis=0)"
      ],
      "metadata": {
        "id": "8o2lOEhwZEx_"
      },
      "execution_count": null,
      "outputs": []
    },
    {
      "cell_type": "code",
      "source": [
        "df.head()"
      ],
      "metadata": {
        "colab": {
          "base_uri": "https://localhost:8080/",
          "height": 270
        },
        "id": "gKyEl77qy56y",
        "outputId": "bc9ab41a-aec1-4c39-d01d-45ba73adfeba"
      },
      "execution_count": null,
      "outputs": [
        {
          "output_type": "execute_result",
          "data": {
            "text/plain": [
              "   gender  NationalITy  PlaceofBirth  StageID  GradeID  SectionID  Topic  \\\n",
              "0       1            4             4        2        1          0      7   \n",
              "1       1            4             4        2        1          0      7   \n",
              "2       1            4             4        2        1          0      7   \n",
              "3       1            4             4        2        1          0      7   \n",
              "4       1            4             4        2        1          0      7   \n",
              "\n",
              "   Semester  Relation  raisedhands  VisITedResources  AnnouncementsView  \\\n",
              "0         0         0           15                16                  2   \n",
              "1         0         0           20                20                  3   \n",
              "2         0         0           10                 7                  0   \n",
              "3         0         0           30                25                  5   \n",
              "4         0         0           40                50                 12   \n",
              "\n",
              "   Discussion  ParentAnsweringSurvey  ParentschoolSatisfaction  \\\n",
              "0          20                      1                         1   \n",
              "1          25                      1                         1   \n",
              "2          30                      0                         0   \n",
              "3          35                      0                         0   \n",
              "4          50                      0                         0   \n",
              "\n",
              "   StudentAbsenceDays  Class  \n",
              "0                   1      1  \n",
              "1                   1      1  \n",
              "2                   0      0  \n",
              "3                   0      0  \n",
              "4                   0      1  "
            ],
            "text/html": [
              "\n",
              "  <div id=\"df-2d5951d2-8c31-46f5-9adf-cfe6ef0559b8\">\n",
              "    <div class=\"colab-df-container\">\n",
              "      <div>\n",
              "<style scoped>\n",
              "    .dataframe tbody tr th:only-of-type {\n",
              "        vertical-align: middle;\n",
              "    }\n",
              "\n",
              "    .dataframe tbody tr th {\n",
              "        vertical-align: top;\n",
              "    }\n",
              "\n",
              "    .dataframe thead th {\n",
              "        text-align: right;\n",
              "    }\n",
              "</style>\n",
              "<table border=\"1\" class=\"dataframe\">\n",
              "  <thead>\n",
              "    <tr style=\"text-align: right;\">\n",
              "      <th></th>\n",
              "      <th>gender</th>\n",
              "      <th>NationalITy</th>\n",
              "      <th>PlaceofBirth</th>\n",
              "      <th>StageID</th>\n",
              "      <th>GradeID</th>\n",
              "      <th>SectionID</th>\n",
              "      <th>Topic</th>\n",
              "      <th>Semester</th>\n",
              "      <th>Relation</th>\n",
              "      <th>raisedhands</th>\n",
              "      <th>VisITedResources</th>\n",
              "      <th>AnnouncementsView</th>\n",
              "      <th>Discussion</th>\n",
              "      <th>ParentAnsweringSurvey</th>\n",
              "      <th>ParentschoolSatisfaction</th>\n",
              "      <th>StudentAbsenceDays</th>\n",
              "      <th>Class</th>\n",
              "    </tr>\n",
              "  </thead>\n",
              "  <tbody>\n",
              "    <tr>\n",
              "      <th>0</th>\n",
              "      <td>1</td>\n",
              "      <td>4</td>\n",
              "      <td>4</td>\n",
              "      <td>2</td>\n",
              "      <td>1</td>\n",
              "      <td>0</td>\n",
              "      <td>7</td>\n",
              "      <td>0</td>\n",
              "      <td>0</td>\n",
              "      <td>15</td>\n",
              "      <td>16</td>\n",
              "      <td>2</td>\n",
              "      <td>20</td>\n",
              "      <td>1</td>\n",
              "      <td>1</td>\n",
              "      <td>1</td>\n",
              "      <td>1</td>\n",
              "    </tr>\n",
              "    <tr>\n",
              "      <th>1</th>\n",
              "      <td>1</td>\n",
              "      <td>4</td>\n",
              "      <td>4</td>\n",
              "      <td>2</td>\n",
              "      <td>1</td>\n",
              "      <td>0</td>\n",
              "      <td>7</td>\n",
              "      <td>0</td>\n",
              "      <td>0</td>\n",
              "      <td>20</td>\n",
              "      <td>20</td>\n",
              "      <td>3</td>\n",
              "      <td>25</td>\n",
              "      <td>1</td>\n",
              "      <td>1</td>\n",
              "      <td>1</td>\n",
              "      <td>1</td>\n",
              "    </tr>\n",
              "    <tr>\n",
              "      <th>2</th>\n",
              "      <td>1</td>\n",
              "      <td>4</td>\n",
              "      <td>4</td>\n",
              "      <td>2</td>\n",
              "      <td>1</td>\n",
              "      <td>0</td>\n",
              "      <td>7</td>\n",
              "      <td>0</td>\n",
              "      <td>0</td>\n",
              "      <td>10</td>\n",
              "      <td>7</td>\n",
              "      <td>0</td>\n",
              "      <td>30</td>\n",
              "      <td>0</td>\n",
              "      <td>0</td>\n",
              "      <td>0</td>\n",
              "      <td>0</td>\n",
              "    </tr>\n",
              "    <tr>\n",
              "      <th>3</th>\n",
              "      <td>1</td>\n",
              "      <td>4</td>\n",
              "      <td>4</td>\n",
              "      <td>2</td>\n",
              "      <td>1</td>\n",
              "      <td>0</td>\n",
              "      <td>7</td>\n",
              "      <td>0</td>\n",
              "      <td>0</td>\n",
              "      <td>30</td>\n",
              "      <td>25</td>\n",
              "      <td>5</td>\n",
              "      <td>35</td>\n",
              "      <td>0</td>\n",
              "      <td>0</td>\n",
              "      <td>0</td>\n",
              "      <td>0</td>\n",
              "    </tr>\n",
              "    <tr>\n",
              "      <th>4</th>\n",
              "      <td>1</td>\n",
              "      <td>4</td>\n",
              "      <td>4</td>\n",
              "      <td>2</td>\n",
              "      <td>1</td>\n",
              "      <td>0</td>\n",
              "      <td>7</td>\n",
              "      <td>0</td>\n",
              "      <td>0</td>\n",
              "      <td>40</td>\n",
              "      <td>50</td>\n",
              "      <td>12</td>\n",
              "      <td>50</td>\n",
              "      <td>0</td>\n",
              "      <td>0</td>\n",
              "      <td>0</td>\n",
              "      <td>1</td>\n",
              "    </tr>\n",
              "  </tbody>\n",
              "</table>\n",
              "</div>\n",
              "      <button class=\"colab-df-convert\" onclick=\"convertToInteractive('df-2d5951d2-8c31-46f5-9adf-cfe6ef0559b8')\"\n",
              "              title=\"Convert this dataframe to an interactive table.\"\n",
              "              style=\"display:none;\">\n",
              "        \n",
              "  <svg xmlns=\"http://www.w3.org/2000/svg\" height=\"24px\"viewBox=\"0 0 24 24\"\n",
              "       width=\"24px\">\n",
              "    <path d=\"M0 0h24v24H0V0z\" fill=\"none\"/>\n",
              "    <path d=\"M18.56 5.44l.94 2.06.94-2.06 2.06-.94-2.06-.94-.94-2.06-.94 2.06-2.06.94zm-11 1L8.5 8.5l.94-2.06 2.06-.94-2.06-.94L8.5 2.5l-.94 2.06-2.06.94zm10 10l.94 2.06.94-2.06 2.06-.94-2.06-.94-.94-2.06-.94 2.06-2.06.94z\"/><path d=\"M17.41 7.96l-1.37-1.37c-.4-.4-.92-.59-1.43-.59-.52 0-1.04.2-1.43.59L10.3 9.45l-7.72 7.72c-.78.78-.78 2.05 0 2.83L4 21.41c.39.39.9.59 1.41.59.51 0 1.02-.2 1.41-.59l7.78-7.78 2.81-2.81c.8-.78.8-2.07 0-2.86zM5.41 20L4 18.59l7.72-7.72 1.47 1.35L5.41 20z\"/>\n",
              "  </svg>\n",
              "      </button>\n",
              "      \n",
              "  <style>\n",
              "    .colab-df-container {\n",
              "      display:flex;\n",
              "      flex-wrap:wrap;\n",
              "      gap: 12px;\n",
              "    }\n",
              "\n",
              "    .colab-df-convert {\n",
              "      background-color: #E8F0FE;\n",
              "      border: none;\n",
              "      border-radius: 50%;\n",
              "      cursor: pointer;\n",
              "      display: none;\n",
              "      fill: #1967D2;\n",
              "      height: 32px;\n",
              "      padding: 0 0 0 0;\n",
              "      width: 32px;\n",
              "    }\n",
              "\n",
              "    .colab-df-convert:hover {\n",
              "      background-color: #E2EBFA;\n",
              "      box-shadow: 0px 1px 2px rgba(60, 64, 67, 0.3), 0px 1px 3px 1px rgba(60, 64, 67, 0.15);\n",
              "      fill: #174EA6;\n",
              "    }\n",
              "\n",
              "    [theme=dark] .colab-df-convert {\n",
              "      background-color: #3B4455;\n",
              "      fill: #D2E3FC;\n",
              "    }\n",
              "\n",
              "    [theme=dark] .colab-df-convert:hover {\n",
              "      background-color: #434B5C;\n",
              "      box-shadow: 0px 1px 3px 1px rgba(0, 0, 0, 0.15);\n",
              "      filter: drop-shadow(0px 1px 2px rgba(0, 0, 0, 0.3));\n",
              "      fill: #FFFFFF;\n",
              "    }\n",
              "  </style>\n",
              "\n",
              "      <script>\n",
              "        const buttonEl =\n",
              "          document.querySelector('#df-2d5951d2-8c31-46f5-9adf-cfe6ef0559b8 button.colab-df-convert');\n",
              "        buttonEl.style.display =\n",
              "          google.colab.kernel.accessAllowed ? 'block' : 'none';\n",
              "\n",
              "        async function convertToInteractive(key) {\n",
              "          const element = document.querySelector('#df-2d5951d2-8c31-46f5-9adf-cfe6ef0559b8');\n",
              "          const dataTable =\n",
              "            await google.colab.kernel.invokeFunction('convertToInteractive',\n",
              "                                                     [key], {});\n",
              "          if (!dataTable) return;\n",
              "\n",
              "          const docLinkHtml = 'Like what you see? Visit the ' +\n",
              "            '<a target=\"_blank\" href=https://colab.research.google.com/notebooks/data_table.ipynb>data table notebook</a>'\n",
              "            + ' to learn more about interactive tables.';\n",
              "          element.innerHTML = '';\n",
              "          dataTable['output_type'] = 'display_data';\n",
              "          await google.colab.output.renderOutput(dataTable, element);\n",
              "          const docLink = document.createElement('div');\n",
              "          docLink.innerHTML = docLinkHtml;\n",
              "          element.appendChild(docLink);\n",
              "        }\n",
              "      </script>\n",
              "    </div>\n",
              "  </div>\n",
              "  "
            ]
          },
          "metadata": {},
          "execution_count": 47
        }
      ]
    },
    {
      "cell_type": "code",
      "source": [
        "# X: Features, y: Classes\n",
        "X = np.array(df.iloc[:, :-1])\n",
        "y = np.array(df['Class'])"
      ],
      "metadata": {
        "id": "taUy4jmjZJRN"
      },
      "execution_count": null,
      "outputs": []
    },
    {
      "cell_type": "code",
      "source": [
        "# Deviding Dataset to training and validation set\n",
        "X_train, X_val, y_train, y_val = train_test_split(X, y, test_size=0.2, random_state=12)\n",
        "\n"
      ],
      "metadata": {
        "id": "nBMIXI-aZKGw"
      },
      "execution_count": null,
      "outputs": []
    },
    {
      "cell_type": "code",
      "source": [
        "scale = StandardScaler()\n",
        "X_train = scale.fit_transform(X_train)\n",
        "X_val = scale.transform(X_val)"
      ],
      "metadata": {
        "id": "5lZF8P4rC-v7"
      },
      "execution_count": null,
      "outputs": []
    },
    {
      "cell_type": "markdown",
      "source": [
        "normalizing data"
      ],
      "metadata": {
        "id": "VSBO11BROiir"
      }
    },
    {
      "cell_type": "code",
      "source": [
        "def normalize(X):\n",
        "  miu = (1/(X.shape[1])) * np.sum(X)\n",
        "  sigma = np.sqrt( (1/(X.shape[1])) * np.sum(np.power(X - miu,2)) )\n",
        "  X = (X - miu) / sigma\n",
        "\n",
        "  return X"
      ],
      "metadata": {
        "id": "OPl7nz56MYx4"
      },
      "execution_count": null,
      "outputs": []
    },
    {
      "cell_type": "code",
      "source": [
        "# Deviding Dataset to training and validation set\n",
        "X_train, X_val, y_train, y_val = train_test_split(X, y, test_size=0.2, random_state=12)\n",
        "print('Number of dataset: ', len(X))\n",
        "print('Number of train set: ', len(X_train))\n",
        "print('Number of validation set: ', len(X_val))\n",
        "print(\"X_train = \", X_train.shape)\n",
        "print(\"y_train = \", y_train.shape)\n",
        "print(\"X_val = \", X_val.shape)\n",
        "print(\"y_val = \", y_val.shape)\n",
        "print(\"------\")\n",
        "X_train = X_train.T\n",
        "X_val = X_val.T\n",
        "\n",
        "y_val = y_val.reshape(len(y_val),1)\n",
        "y_val = y_val.T\n",
        "\n",
        "y_train = y_train.reshape(len(y_train),1)\n",
        "y_train = y_train.T\n",
        "\n",
        "print(\"X_train = \", X_train.shape)\n",
        "print(\"y_train = \", y_train.shape)\n",
        "print(\"X_val = \", X_val.shape)\n",
        "print(\"y_val = \", y_val.shape)\n",
        "print(\"-----\")\n",
        "#X_train = normalize(X_train)\n",
        "#X_val = normalize(X_val)\n",
        "#y_train = normalize(y_train)\n",
        "#y_val = normalize(y_val)\n",
        "\n",
        "############### change dimensions ###########\n",
        "\n",
        "\n"
      ],
      "metadata": {
        "colab": {
          "base_uri": "https://localhost:8080/"
        },
        "id": "jEozQo3ZZe74",
        "outputId": "3154e46a-5da5-479a-db87-b29928dcb075"
      },
      "execution_count": null,
      "outputs": [
        {
          "output_type": "stream",
          "name": "stdout",
          "text": [
            "Number of dataset:  480\n",
            "Number of train set:  384\n",
            "Number of validation set:  96\n",
            "X_train =  (384, 16)\n",
            "y_train =  (384,)\n",
            "X_val =  (96, 16)\n",
            "y_val =  (96,)\n",
            "------\n",
            "X_train =  (16, 384)\n",
            "y_train =  (1, 384)\n",
            "X_val =  (16, 96)\n",
            "y_val =  (1, 96)\n",
            "-----\n"
          ]
        }
      ]
    },
    {
      "cell_type": "markdown",
      "source": [
        "# ***Implementing Model***\n",
        "#implementing functions\n"
      ],
      "metadata": {
        "id": "p8uXlAKL0fpU"
      }
    },
    {
      "cell_type": "markdown",
      "source": [
        "### **sigmoid function**"
      ],
      "metadata": {
        "id": "2qTQn5k6fG6h"
      }
    },
    {
      "cell_type": "code",
      "source": [
        "def sigmoid(Z):\n",
        "  A = 1/ (1+np.exp(-Z))\n",
        "  cache = Z        # save for backward propagation\n",
        "  return A, cache"
      ],
      "metadata": {
        "id": "KUjkg643c6S_"
      },
      "execution_count": null,
      "outputs": []
    },
    {
      "cell_type": "markdown",
      "source": [
        "### **relu function**"
      ],
      "metadata": {
        "id": "cB0UvcSHf47D"
      }
    },
    {
      "cell_type": "code",
      "source": [
        "def relu(Z):\n",
        "  A = np.maximum(Z, 0)\n",
        "  cache = Z           # save for backward propagation\n",
        "  return A, cache"
      ],
      "metadata": {
        "id": "Cun9JX-oc614"
      },
      "execution_count": null,
      "outputs": []
    },
    {
      "cell_type": "markdown",
      "source": [
        "### **initializing parameters**"
      ],
      "metadata": {
        "id": "xMnWaBR9hzSt"
      }
    },
    {
      "cell_type": "code",
      "source": [
        "def initialize_param(layer_size):\n",
        "  parameters = {}\n",
        "  for i in range(1, len(layer_size)):\n",
        "    parameters['W' + str(i)] = np.random.randn(layer_size[i], layer_size[i-1])*0.02\n",
        "    parameters['b' + str(i)] = np.zeros((layer_size[i], 1))\n",
        "\n",
        "  return parameters"
      ],
      "metadata": {
        "id": "auuxGB4ffjz5"
      },
      "execution_count": null,
      "outputs": []
    },
    {
      "cell_type": "markdown",
      "source": [
        "### **initializing parameters (zero vesion)**"
      ],
      "metadata": {
        "id": "NZUqr9Bv0rJT"
      }
    },
    {
      "cell_type": "code",
      "source": [
        "def initialize_param_zero(layer_size):\n",
        "  parameters = {}\n",
        "  for i in range(1, len(layer_size)):\n",
        "    parameters['W' + str(i)] = np.zeros((layer_size[i], layer_size[i-1]))\n",
        "    parameters['b' + str(i)] = np.zeros((layer_size[i], 1))\n",
        "\n",
        "  return parameters\n"
      ],
      "metadata": {
        "id": "Pl2puq0a0uj9"
      },
      "execution_count": null,
      "outputs": []
    },
    {
      "cell_type": "markdown",
      "source": [
        "### **activation forward**"
      ],
      "metadata": {
        "id": "-0txiiG2iLNl"
      }
    },
    {
      "cell_type": "code",
      "source": [
        "def activation_forward(prev_A, activation_type, W, b):\n",
        "\n",
        "  # if activation is calculated in hidden layer\n",
        "  if activation_type == \"relu\":\n",
        "    Z = np.dot(W, prev_A) + b\n",
        "    cache_1 = (prev_A, W, b)\n",
        "    A, cache_2 = relu(Z)\n",
        "\n",
        "  # if activation is calculated in output layer\n",
        "  elif activation_type == \"sigmoid\":\n",
        "    Z = np.dot(W, prev_A) + b\n",
        "    cache_1 = (prev_A, W, b)\n",
        "    A, cache_2 = sigmoid(Z)\n",
        "\n",
        "  # for backprop usage\n",
        "  cache = (cache_1, cache_2)\n",
        "  return A, cache"
      ],
      "metadata": {
        "id": "vr1s73O4iKye"
      },
      "execution_count": null,
      "outputs": []
    },
    {
      "cell_type": "markdown",
      "source": [
        "### **forward propagation**"
      ],
      "metadata": {
        "id": "6n_4hfHSqTWg"
      }
    },
    {
      "cell_type": "code",
      "source": [
        "def forward_propagation(X, parameters):\n",
        "\n",
        "  layers_num = len(parameters) // 2   # number of the layers\n",
        "\n",
        "  A = X\n",
        "  caches = []                         # save caches for backprop\n",
        "\n",
        "  for i in range(1, layers_num):\n",
        "    prev_A = A\n",
        "\n",
        "    # hidden layers activation\n",
        "    A, cache = activation_forward(prev_A, \"relu\", parameters['W' + str(i)], parameters['b' + str(i)])\n",
        "    caches.append(cache)\n",
        "\n",
        "  # output layer activation\n",
        "  A_last, cache = activation_forward(A, \"sigmoid\", parameters['W' + str(layers_num)], parameters['b' + str(layers_num)])\n",
        "  caches.append(cache)\n",
        "\n",
        "\n",
        "  return A_last, caches\n",
        ""
      ],
      "metadata": {
        "id": "5WHzXdqz_GJO"
      },
      "execution_count": null,
      "outputs": []
    },
    {
      "cell_type": "markdown",
      "source": [
        "### **Relu backward**"
      ],
      "metadata": {
        "id": "wf9Ime1jDkmG"
      }
    },
    {
      "cell_type": "code",
      "source": [
        "def relu_backward(dA, cache):\n",
        "  Z = cache\n",
        "  dZ = np.array(dA, copy=True)\n",
        "  dZ[Z <= 0] = 0\n",
        "  return dZ\n"
      ],
      "metadata": {
        "id": "rhF2Bi6kdpF8"
      },
      "execution_count": null,
      "outputs": []
    },
    {
      "cell_type": "markdown",
      "source": [
        "### **Sigmoid backward**"
      ],
      "metadata": {
        "id": "qnxP0Ui1u0T8"
      }
    },
    {
      "cell_type": "code",
      "source": [
        "def sigmoid_backward(dA, Z_cache):\n",
        "  sigm = 1/(1+np.exp(-Z_cache))\n",
        "  dZ = dA * sigm * (1-sigm)\n",
        "  return dZ"
      ],
      "metadata": {
        "id": "yjIZGiDpu4h1"
      },
      "execution_count": null,
      "outputs": []
    },
    {
      "cell_type": "markdown",
      "source": [
        "### **activaition backward**\n",
        "\n",
        "\n"
      ],
      "metadata": {
        "id": "E32XdWUqtUEN"
      }
    },
    {
      "cell_type": "code",
      "source": [
        "def activation_backward(dA, activation, cache):\n",
        "\n",
        "  # restore caches\n",
        "  Z_cache, activation_cache = cache\n",
        "  previous_dA, W, b = Z_cache\n",
        "\n",
        "  if activation == \"relu\":\n",
        "\n",
        "    # compute derivative of relu\n",
        "    dZ = relu_backward(dA, activation_cache)\n",
        "\n",
        "  elif activation == \"sigmoid\":\n",
        "\n",
        "    dZ = sigmoid_backward(dA, activation_cache)\n",
        "\n",
        "  # number of example\n",
        "  m = previous_dA.shape[1]\n",
        "\n",
        "  # compute derivatives\n",
        "  dW = (1/m) * np.dot(dZ, previous_dA.T)\n",
        "  db = (1/m) * np.sum(dZ, axis = 1, keepdims = True)\n",
        "  previous_dA = np.dot(W.T, dZ)\n",
        "\n",
        "  return previous_dA, dW, db\n",
        "\n"
      ],
      "metadata": {
        "id": "Mb-YsyGPtUml"
      },
      "execution_count": null,
      "outputs": []
    },
    {
      "cell_type": "markdown",
      "source": [
        "### **backward propagation**\n",
        "\n",
        "\n",
        "\n"
      ],
      "metadata": {
        "id": "O0tqXBP7gY83"
      }
    },
    {
      "cell_type": "code",
      "source": [
        "def backward_propagation(Last_activation, caches, Y):\n",
        "\n",
        "    Layer_num = len(caches)\n",
        "\n",
        "    # derivative of last activation\n",
        "    dAL = - (np.divide(Y, Last_activation) - np.divide(1 - Y, 1 - Last_activation))\n",
        "\n",
        "    # selecting last cache\n",
        "    cache = caches[Layer_num-1]\n",
        "\n",
        "    # apply backward propagation on sigmoid\n",
        "    previous_dA, dW_temp, db_temp = activation_backward(dAL, \"sigmoid\", cache)\n",
        "    gradiant = {}\n",
        "    gradiant[\"dA\" + str(Layer_num-1)] = previous_dA\n",
        "    gradiant[\"dW\" + str(Layer_num)] = dW_temp\n",
        "    gradiant[\"db\" + str(Layer_num)] = db_temp\n",
        "\n",
        "    for l in reversed(range(Layer_num-1)):\n",
        "\n",
        "      # select last cache\n",
        "      cache = caches[l]\n",
        "\n",
        "      #compute derivative of layers (relu)\n",
        "      dA_prev_temp, dW_tempp, db_tempp = activation_backward(dA = gradiant[\"dA\" + str(l + 1)], activation = \"relu\", cache = cache)\n",
        "      gradiant[\"dA\" + str(l)] = dA_prev_temp\n",
        "      gradiant[\"dW\" + str(l+1)] = dW_tempp\n",
        "      gradiant[\"db\" + str(l+1)] = db_tempp\n",
        "\n",
        "    return gradiant"
      ],
      "metadata": {
        "id": "0xtVvGfCgZUR"
      },
      "execution_count": null,
      "outputs": []
    },
    {
      "cell_type": "markdown",
      "source": [
        "### **update the parameters**"
      ],
      "metadata": {
        "id": "ckchIM2pDe4M"
      }
    },
    {
      "cell_type": "code",
      "source": [
        "def update_parameters(parameters, gradiants, alpha):\n",
        "\n",
        "  # size of the layers\n",
        "  layer_num = len(parameters) // 2\n",
        "\n",
        "  # updating the layers\n",
        "  for i in range(layer_num):\n",
        "    parameters[\"W\"+ str(i+1)] = parameters[\"W\"+ str(i+1)] - gradiants[\"dW\"+ str(i+1)] * alpha\n",
        "    parameters[\"b\"+ str(i+1)] = parameters[\"b\"+ str(i+1)] - gradiants[\"db\"+ str(i+1)] * alpha\n",
        "\n",
        "  return parameters"
      ],
      "metadata": {
        "id": "TfopeDe6vUHU"
      },
      "execution_count": null,
      "outputs": []
    },
    {
      "cell_type": "markdown",
      "source": [
        "### **cost function**"
      ],
      "metadata": {
        "id": "Cxb4qoT-w4B0"
      }
    },
    {
      "cell_type": "code",
      "source": [
        "def cost_function(AL, Y):\n",
        "\n",
        "  # number of examples\n",
        "  m = Y.shape[1]\n",
        "\n",
        "  # computing the cost\n",
        "  cost = (-1/m) * (np.dot(Y, np.log(AL).T) + np.dot((1-Y), np.log(1-AL).T))\n",
        "\n",
        "  #remove redundant brackets\n",
        "  cost = np.squeeze(cost)\n",
        "\n",
        "  return cost"
      ],
      "metadata": {
        "id": "rPDgGTL9wx7m"
      },
      "execution_count": null,
      "outputs": []
    },
    {
      "cell_type": "markdown",
      "source": [
        "# ***Training the model***"
      ],
      "metadata": {
        "id": "PT4J_POH0lbD"
      }
    },
    {
      "cell_type": "markdown",
      "source": [
        "### **compute accuracy**"
      ],
      "metadata": {
        "id": "7gJJqj1tJ_6K"
      }
    },
    {
      "cell_type": "code",
      "source": [
        "def acc(AL, y):\n",
        "\n",
        "  pred = np.zeros((1,AL.shape[1]))\n",
        "\n",
        "  for i in range(0, AL.shape[1]):\n",
        "    if AL[0,i] > 0.5:\n",
        "      pred[0,i] = 1\n",
        "    else:\n",
        "      pred[0,i] = 0\n",
        "  return np.sum((pred == y)/AL.shape[1])"
      ],
      "metadata": {
        "id": "u1U6bS_gKAS6"
      },
      "execution_count": null,
      "outputs": []
    },
    {
      "cell_type": "markdown",
      "source": [
        "### **plotting the data (cost or accuracy)**"
      ],
      "metadata": {
        "id": "HGojZw97Ed_U"
      }
    },
    {
      "cell_type": "code",
      "source": [
        "def plotting(data, title, y):\n",
        "\n",
        "  plt.plot(np.squeeze(data))\n",
        "  plt.ylabel(y)\n",
        "  plt.xlabel('iterations (per Hundreds)')\n",
        "  plt.title(title)\n",
        "  plt.show()\n",
        "  print()\n",
        "\n"
      ],
      "metadata": {
        "id": "rD1s2boO7K3W"
      },
      "execution_count": null,
      "outputs": []
    },
    {
      "cell_type": "markdown",
      "source": [
        "### **model**"
      ],
      "metadata": {
        "id": "rOSK-nZVhzyr"
      }
    },
    {
      "cell_type": "code",
      "source": [
        "def model(X, Y, X_val, Y_val, layers_dims, alpha = 0.1, epoch = 4000,print_cost = False, param_initialize = \"random\"):\n",
        "\n",
        "  # initializing parameters\n",
        "  if param_initialize == \"random\":\n",
        "    parameters = initialize_param(layers_dims)\n",
        "  else:\n",
        "    parameters = initialize_param_zero(layers_dims)\n",
        "  all_cost_train = []\n",
        "  all_accuracy_train = []\n",
        "  all_cost_val = []\n",
        "  all_accuracy_val = []\n",
        "\n",
        "  for z in range(epoch+1):\n",
        "\n",
        "    # forward propagation\n",
        "    AL, caches = forward_propagation(X, parameters)\n",
        "\n",
        "      # computing cost\n",
        "    cost = cost_function(AL, Y)\n",
        "\n",
        "      # backward propagation\n",
        "    gradiants = backward_propagation(AL,caches,Y)\n",
        "\n",
        "      # updating parameters\n",
        "    parameters = update_parameters(parameters, gradiants, alpha)\n",
        "\n",
        "    if z % 100 == 0 and print_cost:\n",
        "      print (\"Cost after iteration %i: %f\" %(z, cost))\n",
        "\n",
        "      #save the cost and accuracy of training\n",
        "      all_cost_train.append(cost)\n",
        "      all_accuracy_train.append(acc(AL, Y))\n",
        "\n",
        "      #save the cost and accuracy of validation\n",
        "      cost_val, accuracy = predict(X_val, Y_val, parameters)\n",
        "      all_cost_val.append(cost_val)\n",
        "      all_accuracy_val.append(accuracy)\n",
        "\n",
        "\n",
        "  print()\n",
        "  print()\n",
        "\n",
        "  # plot the cost of training\n",
        "  print(\"cost of train: \" + str(all_cost_train[-1]))\n",
        "  plotting(all_cost_train, \"Alpha(train) = \" + str(alpha),'cost')\n",
        "\n",
        "  #plot the accuracy of training\n",
        "  print(\"accuracy of train: \"+ str(all_accuracy_train[-1]))\n",
        "  plotting(all_accuracy_train, \"accuracy(train)\",'Percentage')\n",
        "\n",
        "  #plot the cost of validation\n",
        "  print(\"cost of validation: \" + str(all_cost_val[-1]))\n",
        "  plotting(all_cost_val, \"validation cost \",'cost')\n",
        "\n",
        "  #plot the accuracy of validation\n",
        "  print(\"accuracy of validation: \" + str(all_accuracy_val[-1]))\n",
        "  plotting(all_accuracy_val, \"accuracy(validation)\",'Percentage')\n",
        "\n",
        "  return parameters\n",
        "\n"
      ],
      "metadata": {
        "id": "LJKCQfhUxKUQ"
      },
      "execution_count": null,
      "outputs": []
    },
    {
      "cell_type": "code",
      "source": [
        "def predict(X, y, parameters):\n",
        "\n",
        "    m = X.shape[1]\n",
        "    n = len(parameters) // 2 # number of layers in the neural network\n",
        "    p = np.zeros((1,m))\n",
        "\n",
        "    # Forward propagation\n",
        "    probas, caches = forward_propagation(X, parameters)\n",
        "\n",
        "\n",
        "    # convert probas to 0/1 predictions\n",
        "    for i in range(0, probas.shape[1]):\n",
        "        if probas[0,i] > 0.5:\n",
        "            p[0,i] = 1\n",
        "        else:\n",
        "            p[0,i] = 0\n",
        "\n",
        "    accuracy = (np.sum((p == y)/m))\n",
        "    cost = cost_function(probas, y)\n",
        "\n",
        "\n",
        "    return cost, accuracy"
      ],
      "metadata": {
        "id": "8ySOFDPdh1Jf"
      },
      "execution_count": null,
      "outputs": []
    },
    {
      "cell_type": "markdown",
      "source": [
        "\n",
        "# ***random initializataion***\n",
        "\n",
        "\n",
        "\n"
      ],
      "metadata": {
        "id": "QrjRJh8hrhEX"
      }
    },
    {
      "cell_type": "markdown",
      "source": [
        "### **3 layers model**\n"
      ],
      "metadata": {
        "id": "2ehqtWS2redG"
      }
    },
    {
      "cell_type": "code",
      "source": [
        "layers = [16, 14, 1]\n",
        "parm = model(X_train, y_train, X_val, y_val, layers, alpha = 0.05, epoch = 2000, print_cost = True)\n"
      ],
      "metadata": {
        "id": "NJQUZYLP0yf4",
        "colab": {
          "base_uri": "https://localhost:8080/",
          "height": 1000
        },
        "outputId": "27277427-89c4-4d9b-8ebd-ccf00f368405"
      },
      "execution_count": null,
      "outputs": [
        {
          "output_type": "stream",
          "name": "stdout",
          "text": [
            "Cost after iteration 0: 0.672716\n",
            "Cost after iteration 100: 0.309345\n",
            "Cost after iteration 200: 0.284307\n",
            "Cost after iteration 300: 0.272211\n",
            "Cost after iteration 400: 0.264464\n",
            "Cost after iteration 500: 0.257890\n",
            "Cost after iteration 600: 0.253223\n",
            "Cost after iteration 700: 0.247328\n",
            "Cost after iteration 800: 0.247248\n",
            "Cost after iteration 900: 0.250354\n",
            "Cost after iteration 1000: 0.238958\n",
            "Cost after iteration 1100: 0.229969\n",
            "Cost after iteration 1200: 0.234496\n",
            "Cost after iteration 1300: 0.234004\n",
            "Cost after iteration 1400: 0.232079\n",
            "Cost after iteration 1500: 0.229405\n",
            "Cost after iteration 1600: 0.225400\n",
            "Cost after iteration 1700: 0.222761\n",
            "Cost after iteration 1800: 0.226374\n",
            "Cost after iteration 1900: 0.221778\n",
            "Cost after iteration 2000: 0.213845\n",
            "\n",
            "\n",
            "cost of train: 0.21384531237889154\n"
          ]
        },
        {
          "output_type": "display_data",
          "data": {
            "text/plain": [
              "<Figure size 432x288 with 1 Axes>"
            ],
            "image/png": "[encoded data removed]"
          },
          "metadata": {
            "needs_background": "light"
          }
        },
        {
          "output_type": "stream",
          "name": "stdout",
          "text": [
            "\n",
            "accuracy of train: 0.9244791666666667\n"
          ]
        },
        {
          "output_type": "display_data",
          "data": {
            "text/plain": [
              "<Figure size 432x288 with 1 Axes>"
            ],
            "image/png": "[encoded data removed]"
          },
          "metadata": {
            "needs_background": "light"
          }
        },
        {
          "output_type": "stream",
          "name": "stdout",
          "text": [
            "\n",
            "cost of validation: 0.3146955830738819\n"
          ]
        },
        {
          "output_type": "display_data",
          "data": {
            "text/plain": [
              "<Figure size 432x288 with 1 Axes>"
            ],
            "image/png": "[encoded data removed]"
          },
          "metadata": {
            "needs_background": "light"
          }
        },
        {
          "output_type": "stream",
          "name": "stdout",
          "text": [
            "\n",
            "accuracy of validation: 0.8958333333333334\n"
          ]
        },
        {
          "output_type": "display_data",
          "data": {
            "text/plain": [
              "<Figure size 432x288 with 1 Axes>"
            ],
            "image/png": "[encoded data removed]"
          },
          "metadata": {
            "needs_background": "light"
          }
        },
        {
          "output_type": "stream",
          "name": "stdout",
          "text": [
            "\n"
          ]
        }
      ]
    },
    {
      "cell_type": "markdown",
      "source": [
        "### **5 layers model**\n"
      ],
      "metadata": {
        "id": "kuVSRgQ2r4Dc"
      }
    },
    {
      "cell_type": "code",
      "source": [
        "layers = [16,14,11,9, 1]\n",
        "parm = model(X_train, y_train, X_val, y_val, layers, alpha = 0.01,epoch = 5000 , print_cost = True)\n",
        "print()\n",
        "print()\n",
        "p = predict(X_val, y_val, parm)\n"
      ],
      "metadata": {
        "id": "DfxkIrA_0kkn",
        "colab": {
          "base_uri": "https://localhost:8080/",
          "height": 1000
        },
        "outputId": "3cdf2a8b-d276-4f6c-c23c-d9b0ff2fa4cc"
      },
      "execution_count": null,
      "outputs": [
        {
          "output_type": "stream",
          "name": "stdout",
          "text": [
            "Cost after iteration 0: 0.692929\n",
            "Cost after iteration 100: 0.653126\n",
            "Cost after iteration 200: 0.628721\n",
            "Cost after iteration 300: 0.613267\n",
            "Cost after iteration 400: 0.602228\n",
            "Cost after iteration 500: 0.587101\n",
            "Cost after iteration 600: 0.496345\n",
            "Cost after iteration 700: 0.455717\n",
            "Cost after iteration 800: 0.427933\n",
            "Cost after iteration 900: 0.409197\n",
            "Cost after iteration 1000: 0.395189\n",
            "Cost after iteration 1100: 0.382740\n",
            "Cost after iteration 1200: 0.371708\n",
            "Cost after iteration 1300: 0.361979\n",
            "Cost after iteration 1400: 0.353104\n",
            "Cost after iteration 1500: 0.344725\n",
            "Cost after iteration 1600: 0.337168\n",
            "Cost after iteration 1700: 0.330592\n",
            "Cost after iteration 1800: 0.324937\n",
            "Cost after iteration 1900: 0.320008\n",
            "Cost after iteration 2000: 0.315686\n",
            "Cost after iteration 2100: 0.311794\n",
            "Cost after iteration 2200: 0.308222\n",
            "Cost after iteration 2300: 0.304853\n",
            "Cost after iteration 2400: 0.301615\n",
            "Cost after iteration 2500: 0.298446\n",
            "Cost after iteration 2600: 0.295243\n",
            "Cost after iteration 2700: 0.291968\n",
            "Cost after iteration 2800: 0.288597\n",
            "Cost after iteration 2900: 0.285192\n",
            "Cost after iteration 3000: 0.281829\n",
            "Cost after iteration 3100: 0.278505\n",
            "Cost after iteration 3200: 0.274969\n",
            "Cost after iteration 3300: 0.271787\n",
            "Cost after iteration 3400: 0.268860\n",
            "Cost after iteration 3500: 0.265932\n",
            "Cost after iteration 3600: 0.263120\n",
            "Cost after iteration 3700: 0.260498\n",
            "Cost after iteration 3800: 0.257641\n",
            "Cost after iteration 3900: 0.254679\n",
            "Cost after iteration 4000: 0.251631\n",
            "Cost after iteration 4100: 0.248523\n",
            "Cost after iteration 4200: 0.245188\n",
            "Cost after iteration 4300: 0.241836\n",
            "Cost after iteration 4400: 0.238422\n",
            "Cost after iteration 4500: 0.234987\n",
            "Cost after iteration 4600: 0.229766\n",
            "Cost after iteration 4700: 0.225134\n",
            "Cost after iteration 4800: 0.221157\n",
            "Cost after iteration 4900: 0.227179\n",
            "Cost after iteration 5000: 0.226279\n",
            "\n",
            "\n",
            "cost of train: 0.22627920844085958\n"
          ]
        },
        {
          "output_type": "display_data",
          "data": {
            "text/plain": [
              "<Figure size 432x288 with 1 Axes>"
            ],
            "image/png": "[encoded data removed]"
          },
          "metadata": {
            "needs_background": "light"
          }
        },
        {
          "output_type": "stream",
          "name": "stdout",
          "text": [
            "\n",
            "accuracy of train: 0.921875\n"
          ]
        },
        {
          "output_type": "display_data",
          "data": {
            "text/plain": [
              "<Figure size 432x288 with 1 Axes>"
            ],
            "image/png": "[encoded data removed]"
          },
          "metadata": {
            "needs_background": "light"
          }
        },
        {
          "output_type": "stream",
          "name": "stdout",
          "text": [
            "\n",
            "cost of validation: 0.33298186219949477\n"
          ]
        },
        {
          "output_type": "display_data",
          "data": {
            "text/plain": [
              "<Figure size 432x288 with 1 Axes>"
            ],
            "image/png": "[encoded data removed]"
          },
          "metadata": {
            "needs_background": "light"
          }
        },
        {
          "output_type": "stream",
          "name": "stdout",
          "text": [
            "\n",
            "accuracy of validation: 0.875\n"
          ]
        },
        {
          "output_type": "display_data",
          "data": {
            "text/plain": [
              "<Figure size 432x288 with 1 Axes>"
            ],
            "image/png": "[encoded data removed]"
          },
          "metadata": {
            "needs_background": "light"
          }
        },
        {
          "output_type": "stream",
          "name": "stdout",
          "text": [
            "\n",
            "\n",
            "\n"
          ]
        }
      ]
    },
    {
      "cell_type": "markdown",
      "source": [
        "### **2 layers model**\n"
      ],
      "metadata": {
        "id": "YPVKG5AS0zeY"
      }
    },
    {
      "cell_type": "code",
      "source": [
        "layers = [16, 1]\n",
        "\n",
        "parm = model(X_train, y_train, X_val, y_val, layers, alpha = 0.0001,epoch = 5000 , print_cost = True)\n",
        "print()\n",
        "print()\n",
        "p = predict(X_val, y_val, parm)\n"
      ],
      "metadata": {
        "id": "JdzKU0-rOtFA",
        "colab": {
          "base_uri": "https://localhost:8080/",
          "height": 1000
        },
        "outputId": "70276672-4643-47a1-9996-ec6e975d3af3"
      },
      "execution_count": null,
      "outputs": [
        {
          "output_type": "stream",
          "name": "stdout",
          "text": [
            "Cost after iteration 0: 3.351106\n",
            "Cost after iteration 100: 0.389707\n",
            "Cost after iteration 200: 0.377777\n",
            "Cost after iteration 300: 0.371730\n",
            "Cost after iteration 400: 0.367287\n",
            "Cost after iteration 500: 0.363535\n",
            "Cost after iteration 600: 0.360204\n",
            "Cost after iteration 700: 0.357186\n",
            "Cost after iteration 800: 0.354424\n",
            "Cost after iteration 900: 0.351880\n",
            "Cost after iteration 1000: 0.349527\n",
            "Cost after iteration 1100: 0.347346\n",
            "Cost after iteration 1200: 0.345320\n",
            "Cost after iteration 1300: 0.343435\n",
            "Cost after iteration 1400: 0.341679\n",
            "Cost after iteration 1500: 0.340042\n",
            "Cost after iteration 1600: 0.338512\n",
            "Cost after iteration 1700: 0.337083\n",
            "Cost after iteration 1800: 0.335747\n",
            "Cost after iteration 1900: 0.334495\n",
            "Cost after iteration 2000: 0.333322\n",
            "Cost after iteration 2100: 0.332221\n",
            "Cost after iteration 2200: 0.331187\n",
            "Cost after iteration 2300: 0.330216\n",
            "Cost after iteration 2400: 0.329302\n",
            "Cost after iteration 2500: 0.328441\n",
            "Cost after iteration 2600: 0.327629\n",
            "Cost after iteration 2700: 0.326863\n",
            "Cost after iteration 2800: 0.326140\n",
            "Cost after iteration 2900: 0.325456\n",
            "Cost after iteration 3000: 0.324808\n",
            "Cost after iteration 3100: 0.324194\n",
            "Cost after iteration 3200: 0.323612\n",
            "Cost after iteration 3300: 0.323060\n",
            "Cost after iteration 3400: 0.322534\n",
            "Cost after iteration 3500: 0.322035\n",
            "Cost after iteration 3600: 0.321558\n",
            "Cost after iteration 3700: 0.321105\n",
            "Cost after iteration 3800: 0.320671\n",
            "Cost after iteration 3900: 0.320257\n",
            "Cost after iteration 4000: 0.319861\n",
            "Cost after iteration 4100: 0.319482\n",
            "Cost after iteration 4200: 0.319119\n",
            "Cost after iteration 4300: 0.318770\n",
            "Cost after iteration 4400: 0.318436\n",
            "Cost after iteration 4500: 0.318114\n",
            "Cost after iteration 4600: 0.317804\n",
            "Cost after iteration 4700: 0.317506\n",
            "Cost after iteration 4800: 0.317218\n",
            "Cost after iteration 4900: 0.316940\n",
            "Cost after iteration 5000: 0.316672\n",
            "\n",
            "\n",
            "cost of train: 0.3166716380595807\n"
          ]
        },
        {
          "output_type": "display_data",
          "data": {
            "text/plain": [
              "<Figure size 432x288 with 1 Axes>"
            ],
            "image/png": "[encoded data removed]"
          },
          "metadata": {
            "needs_background": "light"
          }
        },
        {
          "output_type": "stream",
          "name": "stdout",
          "text": [
            "\n",
            "accuracy of train: 0.84375\n"
          ]
        },
        {
          "output_type": "display_data",
          "data": {
            "text/plain": [
              "<Figure size 432x288 with 1 Axes>"
            ],
            "image/png": "[encoded data removed]"
          },
          "metadata": {
            "needs_background": "light"
          }
        },
        {
          "output_type": "stream",
          "name": "stdout",
          "text": [
            "\n",
            "cost of validation: 0.3335943224229985\n"
          ]
        },
        {
          "output_type": "display_data",
          "data": {
            "text/plain": [
              "<Figure size 432x288 with 1 Axes>"
            ],
            "image/png": "[encoded data removed]"
          },
          "metadata": {
            "needs_background": "light"
          }
        },
        {
          "output_type": "stream",
          "name": "stdout",
          "text": [
            "\n",
            "accuracy of validation: 0.8645833333333334\n"
          ]
        },
        {
          "output_type": "display_data",
          "data": {
            "text/plain": [
              "<Figure size 432x288 with 1 Axes>"
            ],
            "image/png": "[encoded data removed]"
          },
          "metadata": {
            "needs_background": "light"
          }
        },
        {
          "output_type": "stream",
          "name": "stdout",
          "text": [
            "\n",
            "\n",
            "\n"
          ]
        }
      ]
    },
    {
      "cell_type": "markdown",
      "source": [
        "\n",
        "# ***zero initializataion***\n",
        "\n",
        "\n",
        "\n"
      ],
      "metadata": {
        "id": "6OWM4cbC2BOE"
      }
    },
    {
      "cell_type": "markdown",
      "source": [
        "### **3 layers model**\n"
      ],
      "metadata": {
        "id": "JJJTyXfJ22Td"
      }
    },
    {
      "cell_type": "code",
      "source": [
        "layers = [16, 14, 1]\n",
        "parm = model(X_train, y_train, X_val, y_val, layers, alpha = 0.05, epoch = 2000, print_cost = True,param_initialize = \"zero\" )\n",
        "print()\n",
        "print()\n",
        "p = predict(X_val, y_val, parm)"
      ],
      "metadata": {
        "id": "frSDuXuKPTbV",
        "colab": {
          "base_uri": "https://localhost:8080/",
          "height": 1000
        },
        "outputId": "2edb1626-c879-474a-9168-b7dfe222a223"
      },
      "execution_count": null,
      "outputs": [
        {
          "output_type": "stream",
          "name": "stdout",
          "text": [
            "Cost after iteration 0: 0.693147\n",
            "Cost after iteration 100: 0.599591\n",
            "Cost after iteration 200: 0.590424\n",
            "Cost after iteration 300: 0.589337\n",
            "Cost after iteration 400: 0.589197\n",
            "Cost after iteration 500: 0.589179\n",
            "Cost after iteration 600: 0.589176\n",
            "Cost after iteration 700: 0.589176\n",
            "Cost after iteration 800: 0.589176\n",
            "Cost after iteration 900: 0.589176\n",
            "Cost after iteration 1000: 0.589176\n",
            "Cost after iteration 1100: 0.589176\n",
            "Cost after iteration 1200: 0.589176\n",
            "Cost after iteration 1300: 0.589176\n",
            "Cost after iteration 1400: 0.589176\n",
            "Cost after iteration 1500: 0.589176\n",
            "Cost after iteration 1600: 0.589176\n",
            "Cost after iteration 1700: 0.589176\n",
            "Cost after iteration 1800: 0.589176\n",
            "Cost after iteration 1900: 0.589176\n",
            "Cost after iteration 2000: 0.589176\n",
            "\n",
            "\n",
            "cost of train: 0.5891758505515907\n"
          ]
        },
        {
          "output_type": "display_data",
          "data": {
            "text/plain": [
              "<Figure size 432x288 with 1 Axes>"
            ],
            "image/png": "[encoded data removed]"
          },
          "metadata": {
            "needs_background": "light"
          }
        },
        {
          "output_type": "stream",
          "name": "stdout",
          "text": [
            "\n",
            "accuracy of train: 0.7239583333333333\n"
          ]
        },
        {
          "output_type": "display_data",
          "data": {
            "text/plain": [
              "<Figure size 432x288 with 1 Axes>"
            ],
            "image/png": "[encoded data removed]"
          },
          "metadata": {
            "needs_background": "light"
          }
        },
        {
          "output_type": "stream",
          "name": "stdout",
          "text": [
            "\n",
            "cost of validation: 0.5339362557664736\n"
          ]
        },
        {
          "output_type": "display_data",
          "data": {
            "text/plain": [
              "<Figure size 432x288 with 1 Axes>"
            ],
            "image/png": "[encoded data removed]"
          },
          "metadata": {
            "needs_background": "light"
          }
        },
        {
          "output_type": "stream",
          "name": "stdout",
          "text": [
            "\n",
            "accuracy of validation: 0.78125\n"
          ]
        },
        {
          "output_type": "display_data",
          "data": {
            "text/plain": [
              "<Figure size 432x288 with 1 Axes>"
            ],
            "image/png": "[encoded data removed]"
          },
          "metadata": {
            "needs_background": "light"
          }
        },
        {
          "output_type": "stream",
          "name": "stdout",
          "text": [
            "\n",
            "\n",
            "\n"
          ]
        }
      ]
    },
    {
      "cell_type": "markdown",
      "source": [
        "### **5 layers model**\n"
      ],
      "metadata": {
        "id": "Il--brnG24Ok"
      }
    },
    {
      "cell_type": "code",
      "source": [
        "layers = [16,14,11,9, 1]\n",
        "parm = model(X_train, y_train, X_val, y_val, layers, alpha = 0.01,epoch = 5000 , print_cost = True,param_initialize = \"zero\")\n",
        "print()\n",
        "print()\n",
        "p = predict(X_val, y_val, parm)"
      ],
      "metadata": {
        "colab": {
          "base_uri": "https://localhost:8080/",
          "height": 1000
        },
        "id": "d887ZdHO25bC",
        "outputId": "1568c6eb-b3dc-4233-a28b-447d713bce53"
      },
      "execution_count": null,
      "outputs": [
        {
          "output_type": "stream",
          "name": "stdout",
          "text": [
            "Cost after iteration 0: 0.693147\n",
            "Cost after iteration 100: 0.653623\n",
            "Cost after iteration 200: 0.629546\n",
            "Cost after iteration 300: 0.614731\n",
            "Cost after iteration 400: 0.605509\n",
            "Cost after iteration 500: 0.599701\n",
            "Cost after iteration 600: 0.596006\n",
            "Cost after iteration 700: 0.593634\n",
            "Cost after iteration 800: 0.592100\n",
            "Cost after iteration 900: 0.591101\n",
            "Cost after iteration 1000: 0.590448\n",
            "Cost after iteration 1100: 0.590018\n",
            "Cost after iteration 1200: 0.589735\n",
            "Cost after iteration 1300: 0.589548\n",
            "Cost after iteration 1400: 0.589423\n",
            "Cost after iteration 1500: 0.589341\n",
            "Cost after iteration 1600: 0.589286\n",
            "Cost after iteration 1700: 0.589249\n",
            "Cost after iteration 1800: 0.589225\n",
            "Cost after iteration 1900: 0.589209\n",
            "Cost after iteration 2000: 0.589198\n",
            "Cost after iteration 2100: 0.589191\n",
            "Cost after iteration 2200: 0.589186\n",
            "Cost after iteration 2300: 0.589182\n",
            "Cost after iteration 2400: 0.589180\n",
            "Cost after iteration 2500: 0.589179\n",
            "Cost after iteration 2600: 0.589178\n",
            "Cost after iteration 2700: 0.589177\n",
            "Cost after iteration 2800: 0.589177\n",
            "Cost after iteration 2900: 0.589176\n",
            "Cost after iteration 3000: 0.589176\n",
            "Cost after iteration 3100: 0.589176\n",
            "Cost after iteration 3200: 0.589176\n",
            "Cost after iteration 3300: 0.589176\n",
            "Cost after iteration 3400: 0.589176\n",
            "Cost after iteration 3500: 0.589176\n",
            "Cost after iteration 3600: 0.589176\n",
            "Cost after iteration 3700: 0.589176\n",
            "Cost after iteration 3800: 0.589176\n",
            "Cost after iteration 3900: 0.589176\n",
            "Cost after iteration 4000: 0.589176\n",
            "Cost after iteration 4100: 0.589176\n",
            "Cost after iteration 4200: 0.589176\n",
            "Cost after iteration 4300: 0.589176\n",
            "Cost after iteration 4400: 0.589176\n",
            "Cost after iteration 4500: 0.589176\n",
            "Cost after iteration 4600: 0.589176\n",
            "Cost after iteration 4700: 0.589176\n",
            "Cost after iteration 4800: 0.589176\n",
            "Cost after iteration 4900: 0.589176\n",
            "Cost after iteration 5000: 0.589176\n",
            "\n",
            "\n",
            "cost of train: 0.5891758506851852\n"
          ]
        },
        {
          "output_type": "display_data",
          "data": {
            "text/plain": [
              "<Figure size 432x288 with 1 Axes>"
            ],
            "image/png": "[encoded data removed]"
          },
          "metadata": {
            "needs_background": "light"
          }
        },
        {
          "output_type": "stream",
          "name": "stdout",
          "text": [
            "\n",
            "accuracy of train: 0.7239583333333333\n"
          ]
        },
        {
          "output_type": "display_data",
          "data": {
            "text/plain": [
              "<Figure size 432x288 with 1 Axes>"
            ],
            "image/png": "[encoded data removed]"
          },
          "metadata": {
            "needs_background": "light"
          }
        },
        {
          "output_type": "stream",
          "name": "stdout",
          "text": [
            "\n",
            "cost of validation: 0.533938346487721\n"
          ]
        },
        {
          "output_type": "display_data",
          "data": {
            "text/plain": [
              "<Figure size 432x288 with 1 Axes>"
            ],
            "image/png": "[encoded data removed]"
          },
          "metadata": {
            "needs_background": "light"
          }
        },
        {
          "output_type": "stream",
          "name": "stdout",
          "text": [
            "\n",
            "accuracy of validation: 0.78125\n"
          ]
        },
        {
          "output_type": "display_data",
          "data": {
            "text/plain": [
              "<Figure size 432x288 with 1 Axes>"
            ],
            "image/png": "[encoded data removed]"
          },
          "metadata": {
            "needs_background": "light"
          }
        },
        {
          "output_type": "stream",
          "name": "stdout",
          "text": [
            "\n",
            "\n",
            "\n"
          ]
        }
      ]
    },
    {
      "cell_type": "markdown",
      "source": [
        "### **2 layers model**\n"
      ],
      "metadata": {
        "id": "dAOxNGv226B0"
      }
    },
    {
      "cell_type": "code",
      "source": [
        "layers = [16, 1]\n",
        "\n",
        "parm = model(X_train, y_train, X_val, y_val, layers, alpha = 0.0001,epoch = 5000 , print_cost = True,param_initialize = \"zero\")\n",
        "print()\n",
        "print()\n",
        "p = predict(X_val, y_val, parm)"
      ],
      "metadata": {
        "colab": {
          "base_uri": "https://localhost:8080/",
          "height": 1000
        },
        "id": "X3EJ78FZ27Pm",
        "outputId": "8b0b6873-71e1-471d-bf24-afbd70145654"
      },
      "execution_count": null,
      "outputs": [
        {
          "output_type": "stream",
          "name": "stdout",
          "text": [
            "Cost after iteration 0: 0.693147\n",
            "Cost after iteration 100: 0.381159\n",
            "Cost after iteration 200: 0.371189\n",
            "Cost after iteration 300: 0.366299\n",
            "Cost after iteration 400: 0.362622\n",
            "Cost after iteration 500: 0.359401\n",
            "Cost after iteration 600: 0.356456\n",
            "Cost after iteration 700: 0.353731\n",
            "Cost after iteration 800: 0.351202\n",
            "Cost after iteration 900: 0.348851\n",
            "Cost after iteration 1000: 0.346663\n",
            "Cost after iteration 1100: 0.344627\n",
            "Cost after iteration 1200: 0.342730\n",
            "Cost after iteration 1300: 0.340961\n",
            "Cost after iteration 1400: 0.339311\n",
            "Cost after iteration 1500: 0.337770\n",
            "Cost after iteration 1600: 0.336330\n",
            "Cost after iteration 1700: 0.334983\n",
            "Cost after iteration 1800: 0.333722\n",
            "Cost after iteration 1900: 0.332541\n",
            "Cost after iteration 2000: 0.331434\n",
            "Cost after iteration 2100: 0.330394\n",
            "Cost after iteration 2200: 0.329417\n",
            "Cost after iteration 2300: 0.328498\n",
            "Cost after iteration 2400: 0.327634\n",
            "Cost after iteration 2500: 0.326819\n",
            "Cost after iteration 2600: 0.326050\n",
            "Cost after iteration 2700: 0.325324\n",
            "Cost after iteration 2800: 0.324639\n",
            "Cost after iteration 2900: 0.323990\n",
            "Cost after iteration 3000: 0.323375\n",
            "Cost after iteration 3100: 0.322793\n",
            "Cost after iteration 3200: 0.322240\n",
            "Cost after iteration 3300: 0.321715\n",
            "Cost after iteration 3400: 0.321216\n",
            "Cost after iteration 3500: 0.320741\n",
            "Cost after iteration 3600: 0.320288\n",
            "Cost after iteration 3700: 0.319856\n",
            "Cost after iteration 3800: 0.319443\n",
            "Cost after iteration 3900: 0.319049\n",
            "Cost after iteration 4000: 0.318672\n",
            "Cost after iteration 4100: 0.318310\n",
            "Cost after iteration 4200: 0.317964\n",
            "Cost after iteration 4300: 0.317631\n",
            "Cost after iteration 4400: 0.317312\n",
            "Cost after iteration 4500: 0.317005\n",
            "Cost after iteration 4600: 0.316709\n",
            "Cost after iteration 4700: 0.316424\n",
            "Cost after iteration 4800: 0.316148\n",
            "Cost after iteration 4900: 0.315883\n",
            "Cost after iteration 5000: 0.315626\n",
            "\n",
            "\n",
            "cost of train: 0.3156260187108898\n"
          ]
        },
        {
          "output_type": "display_data",
          "data": {
            "text/plain": [
              "<Figure size 432x288 with 1 Axes>"
            ],
            "image/png": "[encoded data removed]"
          },
          "metadata": {
            "needs_background": "light"
          }
        },
        {
          "output_type": "stream",
          "name": "stdout",
          "text": [
            "\n",
            "accuracy of train: 0.84375\n"
          ]
        },
        {
          "output_type": "display_data",
          "data": {
            "text/plain": [
              "<Figure size 432x288 with 1 Axes>"
            ],
            "image/png": "[encoded data removed]"
          },
          "metadata": {
            "needs_background": "light"
          }
        },
        {
          "output_type": "stream",
          "name": "stdout",
          "text": [
            "\n",
            "cost of validation: 0.3355186523275982\n"
          ]
        },
        {
          "output_type": "display_data",
          "data": {
            "text/plain": [
              "<Figure size 432x288 with 1 Axes>"
            ],
            "image/png": "[encoded data removed]"
          },
          "metadata": {
            "needs_background": "light"
          }
        },
        {
          "output_type": "stream",
          "name": "stdout",
          "text": [
            "\n",
            "accuracy of validation: 0.8541666666666667\n"
          ]
        },
        {
          "output_type": "display_data",
          "data": {
            "text/plain": [
              "<Figure size 432x288 with 1 Axes>"
            ],
            "image/png": "[encoded data removed]"
          },
          "metadata": {
            "needs_background": "light"
          }
        },
        {
          "output_type": "stream",
          "name": "stdout",
          "text": [
            "\n",
            "\n",
            "\n"
          ]
        }
      ]
    },
    {
      "cell_type": "code",
      "source": [
        "\n"
      ],
      "metadata": {
        "id": "tkt-xCR49PrK"
      },
      "execution_count": null,
      "outputs": []
    }
  ]
}